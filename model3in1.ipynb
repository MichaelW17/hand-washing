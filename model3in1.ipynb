{
 "cells": [
  {
   "cell_type": "code",
   "execution_count": 1,
   "metadata": {},
   "outputs": [
    {
     "name": "stderr",
     "output_type": "stream",
     "text": [
      "Using TensorFlow backend.\n"
     ]
    }
   ],
   "source": [
    "# 01/14/2020: M.F. hand-washing-test2.py, a jupyter version of 3in1 model prediction\n",
    "# 01/13/2020: M.F. hand-washing-test1.py，使用三合一模型检测含有完整洗手流程（前三步）的视频\n",
    "# 12/30/2019: use the trained hand-washing detection model to predict on a test video\n",
    "\n",
    "from keras.models import load_model\n",
    "\n",
    "from os import listdir\n",
    "import imghdr\n",
    "import os, random\n",
    "import numpy as np\n",
    "from keras.layers import Dense,Dropout,Flatten,Conv2D,MaxPooling2D,Reshape,Activation\n",
    "from keras.models import Model\n",
    "from keras.utils import np_utils\n",
    "\n",
    "from keras import optimizers, metrics\n",
    "from efficientnet import EfficientNetB5\n",
    "from PIL import Image\n",
    "from keras.callbacks import ModelCheckpoint\n",
    "import time\n",
    "import cv2"
   ]
  },
  {
   "cell_type": "code",
   "execution_count": 5,
   "metadata": {},
   "outputs": [],
   "source": [
    "# model = load_model('C:/Users/Minghao/Desktop/Models/soap/0107-2classes-soap-39.h5')\n",
    "model = load_model('C:/Users/Minghao/Desktop/0113-4classes-merge-25.h5')\n",
    "# model = load_model('C:/Users/Minghao/Desktop/Models/hand-washing/1231-2classes-wash-29.h5')"
   ]
  },
  {
   "cell_type": "code",
   "execution_count": 7,
   "metadata": {},
   "outputs": [],
   "source": [
    "VIDEO_PATH = 'C:/Users/Minghao/Desktop/showoff0114/3/3/'\n",
    "VIDEO_NAME = 'sink'\n",
    "VIDEO = VIDEO_PATH + VIDEO_NAME + '.MP4'\n",
    "video_save_path = VIDEO_PATH + VIDEO_NAME + '_pred3in1_2.mp4'\n",
    "x_mean = np.full((456, 456, 3), (82, 79, 77.7), dtype=np.float32)  # soap: (62, 60, 59), others: (84.5, 82.47, 81.05)\n",
    "video = cv2.VideoCapture(VIDEO)\n",
    "fourcc = cv2.VideoWriter_fourcc(*'mp4v')\n",
    "output_video = cv2.VideoWriter(video_save_path, fourcc, 30.0, (1280, 720))\n",
    "wait_time = 1\n",
    "frameID = 0\n",
    "skip_frame = 0\n",
    "t0 = time.time() \n",
    "fps = 0.0\n",
    "npy_result = np.empty((1, 4))\n"
   ]
  },
  {
   "cell_type": "code",
   "execution_count": 8,
   "metadata": {},
   "outputs": [
    {
     "name": "stdout",
     "output_type": "stream",
     "text": [
      "frame ID:  1\n"
     ]
    },
    {
     "ename": "ValueError",
     "evalue": "all the input array dimensions except for the concatenation axis must match exactly",
     "output_type": "error",
     "traceback": [
      "\u001b[1;31m---------------------------------------------------------------------------\u001b[0m",
      "\u001b[1;31mValueError\u001b[0m                                Traceback (most recent call last)",
      "\u001b[1;32m<ipython-input-8-0334af894447>\u001b[0m in \u001b[0;36m<module>\u001b[1;34m\u001b[0m\n\u001b[0;32m     30\u001b[0m             \u001b[0mcolor\u001b[0m \u001b[1;33m=\u001b[0m \u001b[1;33m(\u001b[0m\u001b[1;36m255\u001b[0m\u001b[1;33m,\u001b[0m \u001b[1;36m0\u001b[0m\u001b[1;33m,\u001b[0m \u001b[1;36m0\u001b[0m\u001b[1;33m)\u001b[0m\u001b[1;33m\u001b[0m\u001b[1;33m\u001b[0m\u001b[0m\n\u001b[0;32m     31\u001b[0m         \u001b[1;31m# print('npy_result.shape: ', npy_result.shape, 'pred.shape: ', pred.shape)\u001b[0m\u001b[1;33m\u001b[0m\u001b[1;33m\u001b[0m\u001b[1;33m\u001b[0m\u001b[0m\n\u001b[1;32m---> 32\u001b[1;33m         \u001b[0mnpy_result\u001b[0m \u001b[1;33m=\u001b[0m \u001b[0mnp\u001b[0m\u001b[1;33m.\u001b[0m\u001b[0mappend\u001b[0m\u001b[1;33m(\u001b[0m\u001b[0mnpy_result\u001b[0m\u001b[1;33m,\u001b[0m \u001b[0mnp\u001b[0m\u001b[1;33m.\u001b[0m\u001b[0mexpand_dims\u001b[0m\u001b[1;33m(\u001b[0m\u001b[0mpred\u001b[0m\u001b[1;33m,\u001b[0m \u001b[1;36m0\u001b[0m\u001b[1;33m)\u001b[0m\u001b[1;33m,\u001b[0m \u001b[0maxis\u001b[0m\u001b[1;33m=\u001b[0m\u001b[1;36m0\u001b[0m\u001b[1;33m)\u001b[0m  \u001b[1;31m# np.append(a,b)要求a和b维度相同\u001b[0m\u001b[1;33m\u001b[0m\u001b[1;33m\u001b[0m\u001b[0m\n\u001b[0m\u001b[0;32m     33\u001b[0m \u001b[1;33m\u001b[0m\u001b[0m\n\u001b[0;32m     34\u001b[0m         \u001b[0mkey_value\u001b[0m \u001b[1;33m=\u001b[0m \u001b[0mcv2\u001b[0m\u001b[1;33m.\u001b[0m\u001b[0mwaitKey\u001b[0m\u001b[1;33m(\u001b[0m\u001b[0mwait_time\u001b[0m\u001b[1;33m)\u001b[0m\u001b[1;33m\u001b[0m\u001b[1;33m\u001b[0m\u001b[0m\n",
      "\u001b[1;32mc:\\users\\minghao\\anaconda3\\envs\\tf36\\lib\\site-packages\\numpy\\lib\\function_base.py\u001b[0m in \u001b[0;36mappend\u001b[1;34m(arr, values, axis)\u001b[0m\n\u001b[0;32m   4692\u001b[0m         \u001b[0mvalues\u001b[0m \u001b[1;33m=\u001b[0m \u001b[0mravel\u001b[0m\u001b[1;33m(\u001b[0m\u001b[0mvalues\u001b[0m\u001b[1;33m)\u001b[0m\u001b[1;33m\u001b[0m\u001b[1;33m\u001b[0m\u001b[0m\n\u001b[0;32m   4693\u001b[0m         \u001b[0maxis\u001b[0m \u001b[1;33m=\u001b[0m \u001b[0marr\u001b[0m\u001b[1;33m.\u001b[0m\u001b[0mndim\u001b[0m\u001b[1;33m-\u001b[0m\u001b[1;36m1\u001b[0m\u001b[1;33m\u001b[0m\u001b[1;33m\u001b[0m\u001b[0m\n\u001b[1;32m-> 4694\u001b[1;33m     \u001b[1;32mreturn\u001b[0m \u001b[0mconcatenate\u001b[0m\u001b[1;33m(\u001b[0m\u001b[1;33m(\u001b[0m\u001b[0marr\u001b[0m\u001b[1;33m,\u001b[0m \u001b[0mvalues\u001b[0m\u001b[1;33m)\u001b[0m\u001b[1;33m,\u001b[0m \u001b[0maxis\u001b[0m\u001b[1;33m=\u001b[0m\u001b[0maxis\u001b[0m\u001b[1;33m)\u001b[0m\u001b[1;33m\u001b[0m\u001b[1;33m\u001b[0m\u001b[0m\n\u001b[0m\u001b[0;32m   4695\u001b[0m \u001b[1;33m\u001b[0m\u001b[0m\n\u001b[0;32m   4696\u001b[0m \u001b[1;33m\u001b[0m\u001b[0m\n",
      "\u001b[1;31mValueError\u001b[0m: all the input array dimensions except for the concatenation axis must match exactly"
     ]
    }
   ],
   "source": [
    "while 1:\n",
    "    success, frame = video.read()\n",
    "\n",
    "    if success:\n",
    "        frameID += 1\n",
    "        print('frame ID: ', frameID)\n",
    "        # frame = cv2.cvtColor(frame, cv2.COLOR_BGR2RGB)\n",
    "        image = cv2.cvtColor(frame, cv2.COLOR_BGR2RGB)\n",
    "        image = cv2.resize(image, (456, 456), interpolation=cv2.INTER_AREA)\n",
    "        image = np.expand_dims(image - x_mean, axis=0).astype('float32')\n",
    "        pred = model.predict(image)\n",
    "        #         print('pred: ', pred)\n",
    "        pred = pred[0]\n",
    "        result = np.argmax(pred)\n",
    "        if result == 0:\n",
    "            text = 'Nothing'\n",
    "            score = pred[result]\n",
    "            color = (255, 255, 255)\n",
    "        elif result == 1:\n",
    "            text = 'Washing'\n",
    "            score = pred[result]\n",
    "            color = (0, 0, 255)\n",
    "        elif result == 2:\n",
    "            text = 'soaping'\n",
    "            score = pred[result]\n",
    "            color = (0, 255, 0)\n",
    "        elif result == 3:\n",
    "            text = 'drying'\n",
    "            score = pred[result]\n",
    "            color = (255, 0, 0)\n",
    "        # print('npy_result.shape: ', npy_result.shape, 'pred.shape: ', pred.shape)\n",
    "        npy_result = np.append(npy_result, np.expand_dims(pred, 0), axis=0)  # np.append(a,b)要求a和b维度相同\n",
    "\n",
    "        key_value = cv2.waitKey(wait_time)\n",
    "        frame_to_save = cv2.resize(frame, (1280, 720))\n",
    "        cv2.putText(frame_to_save, 'status: {} ({:.2f}), {} fps'.format(text, score, fps), (20, 70),\n",
    "                    cv2.FONT_HERSHEY_SIMPLEX, 2, color, 3)\n",
    "        cv2.imshow('TEST', frame_to_save)\n",
    "        output_video.write(frame_to_save)\n",
    "        wait_time = 0 if key_value == ord('s') else 1\n",
    "        if key_value == 27:\n",
    "            break\n",
    "    else:\n",
    "        if skip_frame < 500:\n",
    "            print('pass this frame')\n",
    "            skip_frame += 1\n",
    "            continue\n",
    "        else:\n",
    "            break\n",
    "    t1 = time.time()\n",
    "    fps = round(1/((t1 - t0)/frameID), 1)\n",
    "\n",
    "np.save(VIDEO_PATH + VIDEO_NAME + '_2.npy', npy_result)\n",
    "\n",
    "cv2.destroyAllWindows()\n",
    "video.release()\n",
    "output_video.release()"
   ]
  },
  {
   "cell_type": "code",
   "execution_count": null,
   "metadata": {},
   "outputs": [],
   "source": []
  }
 ],
 "metadata": {
  "kernelspec": {
   "display_name": "Python 3",
   "language": "python",
   "name": "python3"
  },
  "language_info": {
   "codemirror_mode": {
    "name": "ipython",
    "version": 3
   },
   "file_extension": ".py",
   "mimetype": "text/x-python",
   "name": "python",
   "nbconvert_exporter": "python",
   "pygments_lexer": "ipython3",
   "version": "3.6.9"
  }
 },
 "nbformat": 4,
 "nbformat_minor": 2
}
